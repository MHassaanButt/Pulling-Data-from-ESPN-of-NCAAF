{
  "nbformat": 4,
  "nbformat_minor": 0,
  "metadata": {
    "colab": {
      "name": "ESPN NCAAF Play by Play DataScraping.ipynb",
      "provenance": [],
      "collapsed_sections": [],
      "authorship_tag": "ABX9TyNHfChBARzkdoLGDrMem32X",
      "include_colab_link": true
    },
    "kernelspec": {
      "name": "python3",
      "display_name": "Python 3"
    },
    "language_info": {
      "name": "python"
    }
  },
  "cells": [
    {
      "cell_type": "markdown",
      "metadata": {
        "id": "view-in-github",
        "colab_type": "text"
      },
      "source": [
        "<a href=\"https://colab.research.google.com/github/MHassaanButt/Pulling-Data-from-ESPN-of-NCAAF/blob/main/ESPN_NCAAF_Play_by_Play_DataScraping.ipynb\" target=\"_parent\"><img src=\"https://colab.research.google.com/assets/colab-badge.svg\" alt=\"Open In Colab\"/></a>"
      ]
    },
    {
      "cell_type": "markdown",
      "metadata": {
        "id": "_Q9qXwT3zozY"
      },
      "source": [
        "## Importing Important Liberaries"
      ]
    },
    {
      "cell_type": "code",
      "metadata": {
        "id": "CCzh7-eNiC8n"
      },
      "source": [
        "import pandas as pd\n",
        "import requests\n",
        "from bs4 import BeautifulSoup\n",
        "import re"
      ],
      "execution_count": 1,
      "outputs": []
    },
    {
      "cell_type": "markdown",
      "metadata": {
        "id": "-uIdAQUazygE"
      },
      "source": [
        "## URL for scraping data"
      ]
    },
    {
      "cell_type": "code",
      "metadata": {
        "id": "CfNLB4-EiMI7"
      },
      "source": [
        "url = 'https://www.espn.com/college-football/scoreboard'"
      ],
      "execution_count": 2,
      "outputs": []
    },
    {
      "cell_type": "code",
      "metadata": {
        "id": "23XPOK_uibTZ"
      },
      "source": [
        "page = requests.get(url)"
      ],
      "execution_count": 3,
      "outputs": []
    },
    {
      "cell_type": "code",
      "metadata": {
        "id": "JKneu5U6ihNy"
      },
      "source": [
        "#Getting page content\n",
        "# page.content"
      ],
      "execution_count": 4,
      "outputs": []
    },
    {
      "cell_type": "code",
      "metadata": {
        "id": "mRLtN6khip21"
      },
      "source": [
        "soup = BeautifulSoup(page.content, \"html.parser\")"
      ],
      "execution_count": 5,
      "outputs": []
    },
    {
      "cell_type": "code",
      "metadata": {
        "id": "nI0WgGW90I3y"
      },
      "source": [
        "# soup"
      ],
      "execution_count": 6,
      "outputs": []
    },
    {
      "cell_type": "code",
      "metadata": {
        "id": "L6WPbzKRjTDb"
      },
      "source": [
        "scoreboard=soup.findAll(attrs={'name':\"description\"})"
      ],
      "execution_count": 7,
      "outputs": []
    },
    {
      "cell_type": "code",
      "metadata": {
        "colab": {
          "base_uri": "https://localhost:8080/"
        },
        "id": "0QTcHnO0kGnZ",
        "outputId": "a2370526-86ea-4893-fa45-c63bde0cca39"
      },
      "source": [
        "scoreboard"
      ],
      "execution_count": 8,
      "outputs": [
        {
          "output_type": "execute_result",
          "data": {
            "text/plain": [
              "[<meta content=\"Visit ESPN to view the Top 25 NCAA College Football Scoreboard\" data-react-helmet=\"true\" name=\"description\"/>]"
            ]
          },
          "metadata": {},
          "execution_count": 8
        }
      ]
    },
    {
      "cell_type": "markdown",
      "metadata": {
        "id": "wkmzP6MwJaVr"
      },
      "source": [
        "## Match 1"
      ]
    },
    {
      "cell_type": "code",
      "metadata": {
        "id": "NPP4hON1JWsZ"
      },
      "source": [
        "url1 = 'https://www.espn.in/college-football/playbyplay?gameId=401287886'\n",
        "page1= requests.get(url1)\n",
        "page1.content\n",
        "match_1_soup = BeautifulSoup(page1.content, \"html.parser\")\n",
        "match_1_info =match_1_soup.findAll(attrs={'class': 'team-name'})"
      ],
      "execution_count": 9,
      "outputs": []
    },
    {
      "cell_type": "code",
      "metadata": {
        "id": "PlrPcuWOJ4e4"
      },
      "source": [
        "away_1=match_1_info[0].text.replace(\"TTU\", \"\")\n",
        "home_1=match_1_info[3].text.replace(\"HOU\", \"\")\n",
        "play_1_soup=match_1_soup.find(attrs={'class': 'drive-list'})\n",
        "rep1 = {\"\\n\": \"\", \"\\t\": \"\"} # define desired replacements here\n",
        "# # use these three lines to do the replacement\n",
        "rep1 = dict((re.escape(k), v) for k, v in rep1.items()) \n",
        "# #Python 3 renamed dict.iteritems to dict.items so use rep.items() for latest versions\n",
        "pattern1 = re.compile(\"|\".join(rep1.keys()))\n",
        "playbyplay_1 = pattern1.sub(lambda m: rep1[re.escape(m.group(0))], play_1_soup.text)\n",
        "playbyplay_1\n",
        "match_1= [[home_1,away_1,playbyplay_1]]\n",
        "df1 = pd.DataFrame(match_1, columns=[\"Home\",\"Away\",\"Play-by-Play\"])"
      ],
      "execution_count": 10,
      "outputs": []
    },
    {
      "cell_type": "code",
      "metadata": {
        "colab": {
          "base_uri": "https://localhost:8080/",
          "height": 81
        },
        "id": "gP5EqXJ7KfQu",
        "outputId": "e85ab5e0-d274-446c-c91e-19419a1aac3e"
      },
      "source": [
        "df1"
      ],
      "execution_count": 11,
      "outputs": [
        {
          "output_type": "execute_result",
          "data": {
            "text/html": [
              "<div>\n",
              "<style scoped>\n",
              "    .dataframe tbody tr th:only-of-type {\n",
              "        vertical-align: middle;\n",
              "    }\n",
              "\n",
              "    .dataframe tbody tr th {\n",
              "        vertical-align: top;\n",
              "    }\n",
              "\n",
              "    .dataframe thead th {\n",
              "        text-align: right;\n",
              "    }\n",
              "</style>\n",
              "<table border=\"1\" class=\"dataframe\">\n",
              "  <thead>\n",
              "    <tr style=\"text-align: right;\">\n",
              "      <th></th>\n",
              "      <th>Home</th>\n",
              "      <th>Away</th>\n",
              "      <th>Play-by-Play</th>\n",
              "    </tr>\n",
              "  </thead>\n",
              "  <tbody>\n",
              "    <tr>\n",
              "      <th>0</th>\n",
              "      <td>HoustonCougars</td>\n",
              "      <td>Texas TechRed Raiders</td>\n",
              "      <td>(15:00 - 1st) Trey Wolff kickoff for 65 yds fo...</td>\n",
              "    </tr>\n",
              "  </tbody>\n",
              "</table>\n",
              "</div>"
            ],
            "text/plain": [
              "             Home  ...                                       Play-by-Play\n",
              "0  HoustonCougars  ...  (15:00 - 1st) Trey Wolff kickoff for 65 yds fo...\n",
              "\n",
              "[1 rows x 3 columns]"
            ]
          },
          "metadata": {},
          "execution_count": 11
        }
      ]
    },
    {
      "cell_type": "markdown",
      "metadata": {
        "id": "9UnLCKFnW6PC"
      },
      "source": [
        "## Match 2"
      ]
    },
    {
      "cell_type": "code",
      "metadata": {
        "id": "DIC7TPQ8XAI5"
      },
      "source": [
        "url2 = 'https://www.espn.in/college-football/playbyplay?gameId=401282799'\n",
        "page2= requests.get(url2)\n",
        "page2.content\n",
        "match_2_soup = BeautifulSoup(page2.content, \"html.parser\")\n",
        "match_2_info =match_2_soup.findAll(attrs={'class': 'team-name'})"
      ],
      "execution_count": 12,
      "outputs": []
    },
    {
      "cell_type": "code",
      "metadata": {
        "id": "qVz0O98wXkNb"
      },
      "source": [
        "away_2=match_2_info[0].text.replace(\"OSU\", \"\")\n",
        "home_2=match_2_info[3].text.replace(\"NEB\", \"\")\n",
        "play_2_soup=match_2_soup.find(attrs={'class': 'drive-list'})\n",
        "rep2 = {\"\\n\": \"\", \"\\t\": \"\"} # define desired replacements here\n",
        "# # use these three lines to do the replacement\n",
        "rep2 = dict((re.escape(k), v) for k, v in rep2.items()) \n",
        "# #Python 3 renamed dict.iteritems to dict.items so use rep.items() for latest versions\n",
        "pattern2 = re.compile(\"|\".join(rep2.keys()))\n",
        "playbyplay_2 = pattern2.sub(lambda m: rep2[re.escape(m.group(0))], play_2_soup.text)\n",
        "playbyplay_2\n",
        "match_2= [[home_2,away_2,playbyplay_2]]\n",
        "df2 = pd.DataFrame(match_2, columns=[\"Home\",\"Away\",\"Play-by-Play\"])"
      ],
      "execution_count": 13,
      "outputs": []
    },
    {
      "cell_type": "code",
      "metadata": {
        "colab": {
          "base_uri": "https://localhost:8080/",
          "height": 81
        },
        "id": "2H_R1AkCW_mg",
        "outputId": "262066e5-646c-40da-f743-4e75a709ce39"
      },
      "source": [
        "df2"
      ],
      "execution_count": 14,
      "outputs": [
        {
          "output_type": "execute_result",
          "data": {
            "text/html": [
              "<div>\n",
              "<style scoped>\n",
              "    .dataframe tbody tr th:only-of-type {\n",
              "        vertical-align: middle;\n",
              "    }\n",
              "\n",
              "    .dataframe tbody tr th {\n",
              "        vertical-align: top;\n",
              "    }\n",
              "\n",
              "    .dataframe thead th {\n",
              "        text-align: right;\n",
              "    }\n",
              "</style>\n",
              "<table border=\"1\" class=\"dataframe\">\n",
              "  <thead>\n",
              "    <tr style=\"text-align: right;\">\n",
              "      <th></th>\n",
              "      <th>Home</th>\n",
              "      <th>Away</th>\n",
              "      <th>Play-by-Play</th>\n",
              "    </tr>\n",
              "  </thead>\n",
              "  <tbody>\n",
              "    <tr>\n",
              "      <th>0</th>\n",
              "      <td>NebraskaCornhuskers</td>\n",
              "      <td>Ohio StateBuckeyes</td>\n",
              "      <td>(15:00 - 1st) Brendan Franke kickoff for 65 yd...</td>\n",
              "    </tr>\n",
              "  </tbody>\n",
              "</table>\n",
              "</div>"
            ],
            "text/plain": [
              "                  Home  ...                                       Play-by-Play\n",
              "0  NebraskaCornhuskers  ...  (15:00 - 1st) Brendan Franke kickoff for 65 yd...\n",
              "\n",
              "[1 rows x 3 columns]"
            ]
          },
          "metadata": {},
          "execution_count": 14
        }
      ]
    },
    {
      "cell_type": "markdown",
      "metadata": {
        "id": "1a2baokRYApQ"
      },
      "source": [
        "## Match 3"
      ]
    },
    {
      "cell_type": "code",
      "metadata": {
        "id": "UBQki950YFX4"
      },
      "source": [
        "url3 = 'https://www.espn.in/college-football/playbyplay?gameId=401282769'\n",
        "page3= requests.get(url3)\n",
        "page3.content\n",
        "match_3_soup = BeautifulSoup(page3.content, \"html.parser\")\n",
        "match_3_info =match_3_soup.findAll(attrs={'class': 'team-name'})"
      ],
      "execution_count": 15,
      "outputs": []
    },
    {
      "cell_type": "code",
      "metadata": {
        "id": "G80w-nO3YJnb"
      },
      "source": [
        "away_3=match_3_info[0].text.replace(\"MD\", \"\")\n",
        "home_3=match_3_info[3].text.replace(\"OSU\", \"\")\n",
        "play_3_soup=match_3_soup.find(attrs={'class': 'drive-list'})\n",
        "rep3 = {\"\\n\": \"\", \"\\t\": \"\"} # define desired replacements here\n",
        "# # use these three lines to do the replacement\n",
        "rep3 = dict((re.escape(k), v) for k, v in rep3.items()) \n",
        "# #Python 3 renamed dict.iteritems to dict.items so use rep.items() for latest versions\n",
        "pattern3 = re.compile(\"|\".join(rep3.keys()))\n",
        "playbyplay_3 = pattern3.sub(lambda m: rep3[re.escape(m.group(0))], play_3_soup.text)\n",
        "playbyplay_3\n",
        "match_3= [[home_3,away_3,playbyplay_3]]\n",
        "df3 = pd.DataFrame(match_3, columns=[\"Home\",\"Away\",\"Play-by-Play\"])"
      ],
      "execution_count": 16,
      "outputs": []
    },
    {
      "cell_type": "code",
      "metadata": {
        "colab": {
          "base_uri": "https://localhost:8080/",
          "height": 81
        },
        "id": "KzIutdV1YKSx",
        "outputId": "0ffd99bd-51f9-4b4c-ebc9-5f0588fd8fda"
      },
      "source": [
        "df3"
      ],
      "execution_count": 17,
      "outputs": [
        {
          "output_type": "execute_result",
          "data": {
            "text/html": [
              "<div>\n",
              "<style scoped>\n",
              "    .dataframe tbody tr th:only-of-type {\n",
              "        vertical-align: middle;\n",
              "    }\n",
              "\n",
              "    .dataframe tbody tr th {\n",
              "        vertical-align: top;\n",
              "    }\n",
              "\n",
              "    .dataframe thead th {\n",
              "        text-align: right;\n",
              "    }\n",
              "</style>\n",
              "<table border=\"1\" class=\"dataframe\">\n",
              "  <thead>\n",
              "    <tr style=\"text-align: right;\">\n",
              "      <th></th>\n",
              "      <th>Home</th>\n",
              "      <th>Away</th>\n",
              "      <th>Play-by-Play</th>\n",
              "    </tr>\n",
              "  </thead>\n",
              "  <tbody>\n",
              "    <tr>\n",
              "      <th>0</th>\n",
              "      <td>Ohio StateBuckeyes</td>\n",
              "      <td>MarylandTerrapins</td>\n",
              "      <td>(15:00 - 1st) Noah Ruggles kickoff for 61 yds ...</td>\n",
              "    </tr>\n",
              "  </tbody>\n",
              "</table>\n",
              "</div>"
            ],
            "text/plain": [
              "                 Home  ...                                       Play-by-Play\n",
              "0  Ohio StateBuckeyes  ...  (15:00 - 1st) Noah Ruggles kickoff for 61 yds ...\n",
              "\n",
              "[1 rows x 3 columns]"
            ]
          },
          "metadata": {},
          "execution_count": 17
        }
      ]
    },
    {
      "cell_type": "markdown",
      "metadata": {
        "id": "xmSFEeouZRM1"
      },
      "source": [
        "## Combining All dfs of matches"
      ]
    },
    {
      "cell_type": "code",
      "metadata": {
        "id": "pe0-W-ahY7Md"
      },
      "source": [
        "pdList = [df1, df2, df3]  # List of your dataframes\n",
        "com_df = pd.concat(pdList)"
      ],
      "execution_count": 18,
      "outputs": []
    },
    {
      "cell_type": "code",
      "metadata": {
        "colab": {
          "base_uri": "https://localhost:8080/",
          "height": 143
        },
        "id": "cN7GqIagZNMi",
        "outputId": "0a3e68ff-397e-47a2-a07b-c1a6d6f8d25d"
      },
      "source": [
        "com_df"
      ],
      "execution_count": 19,
      "outputs": [
        {
          "output_type": "execute_result",
          "data": {
            "text/html": [
              "<div>\n",
              "<style scoped>\n",
              "    .dataframe tbody tr th:only-of-type {\n",
              "        vertical-align: middle;\n",
              "    }\n",
              "\n",
              "    .dataframe tbody tr th {\n",
              "        vertical-align: top;\n",
              "    }\n",
              "\n",
              "    .dataframe thead th {\n",
              "        text-align: right;\n",
              "    }\n",
              "</style>\n",
              "<table border=\"1\" class=\"dataframe\">\n",
              "  <thead>\n",
              "    <tr style=\"text-align: right;\">\n",
              "      <th></th>\n",
              "      <th>Home</th>\n",
              "      <th>Away</th>\n",
              "      <th>Play-by-Play</th>\n",
              "    </tr>\n",
              "  </thead>\n",
              "  <tbody>\n",
              "    <tr>\n",
              "      <th>0</th>\n",
              "      <td>HoustonCougars</td>\n",
              "      <td>Texas TechRed Raiders</td>\n",
              "      <td>(15:00 - 1st) Trey Wolff kickoff for 65 yds fo...</td>\n",
              "    </tr>\n",
              "    <tr>\n",
              "      <th>0</th>\n",
              "      <td>NebraskaCornhuskers</td>\n",
              "      <td>Ohio StateBuckeyes</td>\n",
              "      <td>(15:00 - 1st) Brendan Franke kickoff for 65 yd...</td>\n",
              "    </tr>\n",
              "    <tr>\n",
              "      <th>0</th>\n",
              "      <td>Ohio StateBuckeyes</td>\n",
              "      <td>MarylandTerrapins</td>\n",
              "      <td>(15:00 - 1st) Noah Ruggles kickoff for 61 yds ...</td>\n",
              "    </tr>\n",
              "  </tbody>\n",
              "</table>\n",
              "</div>"
            ],
            "text/plain": [
              "                  Home  ...                                       Play-by-Play\n",
              "0       HoustonCougars  ...  (15:00 - 1st) Trey Wolff kickoff for 65 yds fo...\n",
              "0  NebraskaCornhuskers  ...  (15:00 - 1st) Brendan Franke kickoff for 65 yd...\n",
              "0   Ohio StateBuckeyes  ...  (15:00 - 1st) Noah Ruggles kickoff for 61 yds ...\n",
              "\n",
              "[3 rows x 3 columns]"
            ]
          },
          "metadata": {},
          "execution_count": 19
        }
      ]
    },
    {
      "cell_type": "markdown",
      "metadata": {
        "id": "j754OzOMaEma"
      },
      "source": [
        "## Writing CSV"
      ]
    },
    {
      "cell_type": "code",
      "metadata": {
        "id": "_qS-T-wpZOnn"
      },
      "source": [
        "com_df.to_csv('Final.csv', index=False)"
      ],
      "execution_count": 20,
      "outputs": []
    },
    {
      "cell_type": "code",
      "metadata": {
        "id": "kFW9g3LcZ0ah"
      },
      "source": [
        ""
      ],
      "execution_count": 20,
      "outputs": []
    }
  ]
}